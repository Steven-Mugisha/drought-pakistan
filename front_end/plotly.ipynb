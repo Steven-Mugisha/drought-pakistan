{
 "cells": [
  {
   "cell_type": "code",
   "execution_count": 79,
   "metadata": {},
   "outputs": [],
   "source": [
    "import pandas as pd \n",
    "import numpy as np\n",
    "import plotly.express as px"
   ]
  },
  {
   "cell_type": "code",
   "execution_count": 80,
   "metadata": {},
   "outputs": [
    {
     "data": {
      "text/plain": [
       "['INDUS', 'KABUL', 'JEHLUM', 'CHENAB']"
      ]
     },
     "execution_count": 80,
     "metadata": {},
     "output_type": "execute_result"
    }
   ],
   "source": [
    "riverflow_df = pd.read_csv(\"/Users/mugisha/Desktop/Drought_Pakistan/riverflow/mainInflowrivers.csv\")\n",
    "names = list(riverflow_df.columns)\n",
    "names[1:]"
   ]
  },
  {
   "cell_type": "code",
   "execution_count": null,
   "metadata": {},
   "outputs": [],
   "source": [
    "fig = px.line(riverflow_df[riverflow_df[''] == country], \n",
    "    x = \"year\", y = \"gdpPercap\", title = country)"
   ]
  }
 ],
 "metadata": {
  "kernelspec": {
   "display_name": "drought_venv",
   "language": "python",
   "name": "python3"
  },
  "language_info": {
   "codemirror_mode": {
    "name": "ipython",
    "version": 3
   },
   "file_extension": ".py",
   "mimetype": "text/x-python",
   "name": "python",
   "nbconvert_exporter": "python",
   "pygments_lexer": "ipython3",
   "version": "3.9.12"
  },
  "orig_nbformat": 4,
  "vscode": {
   "interpreter": {
    "hash": "daad686faadc92ca06d94d959d7b4eb0b973b59fd936e4dbdf924e0a0a90128f"
   }
  }
 },
 "nbformat": 4,
 "nbformat_minor": 2
}
