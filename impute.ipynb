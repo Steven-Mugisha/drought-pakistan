{
 "cells": [
  {
   "cell_type": "code",
   "execution_count": 32,
   "metadata": {},
   "outputs": [],
   "source": [
    "import pandas as pd\n",
    "from datetime import datetime, timedelta"
   ]
  },
  {
   "cell_type": "code",
   "execution_count": null,
   "metadata": {},
   "outputs": [],
   "source": [
    "# parent_file = pd.read_csv(\"import\")\n",
    "file = parent_file\n",
    "file = file.iloc[:, :-1]\n",
    "file.index = pd.to_datetime(file['Date'])\n",
    "file = file.loc[:'2019-12-31']\n",
    "file.tail()"
   ]
  },
  {
   "cell_type": "code",
   "execution_count": 34,
   "metadata": {},
   "outputs": [],
   "source": [
    "# dummy data_frame\n",
    "start_date = datetime(2020, 1, 1)\n",
    "end_date = datetime(2021, 12, 31)\n",
    "num_days = (end_date - start_date).days + 1\n",
    "date_list = [start_date + timedelta(days=i) for i in range(num_days)]\n",
    "\n",
    "df = pd.DataFrame(index=date_list, columns=['col1', 'col2', 'col3', 'col4'])\n",
    "df.columns = file.columns[1:]\n",
    "# name index Date\n",
    "df.index.name = 'Date'\n"
   ]
  },
  {
   "cell_type": "code",
   "execution_count": null,
   "metadata": {},
   "outputs": [],
   "source": [
    "for date in df.index:\n",
    "    # Fill with the median of the same date from file_df\n",
    "    median_value = file[(file.index.month == date.month) & (file.index.day == date.day)].median()\n",
    "    df.loc[date] = df.loc[date].fillna(median_value)\n"
   ]
  },
  {
   "cell_type": "code",
   "execution_count": null,
   "metadata": {},
   "outputs": [],
   "source": [
    "# create a new column for the year\n",
    "df['Year'] = df.index.year"
   ]
  },
  {
   "cell_type": "code",
   "execution_count": 41,
   "metadata": {},
   "outputs": [],
   "source": [
    "# change back the Date index to a string\n",
    "df.index = df.index.strftime('%Y-%m-%d')"
   ]
  },
  {
   "cell_type": "code",
   "execution_count": 42,
   "metadata": {},
   "outputs": [],
   "source": [
    "#make the index a column\n",
    "df.reset_index(inplace=True)"
   ]
  },
  {
   "cell_type": "code",
   "execution_count": null,
   "metadata": {},
   "outputs": [],
   "source": [
    "df"
   ]
  },
  {
   "cell_type": "code",
   "execution_count": null,
   "metadata": {},
   "outputs": [],
   "source": [
    "# parent_file_above = parent_file.loc[:'2019']\n",
    "# select the rows where Year <=2019\n",
    "parent_file_above = parent_file.loc['2020':]\n",
    "parent_file_above\n",
    "\n",
    "# parent_file_below = parent_file.loc['2022-01-02':]\n",
    "# parent_file_above.tail()"
   ]
  },
  {
   "cell_type": "code",
   "execution_count": 53,
   "metadata": {},
   "outputs": [],
   "source": [
    "# parent_file_below"
   ]
  },
  {
   "cell_type": "code",
   "execution_count": null,
   "metadata": {},
   "outputs": [],
   "source": [
    "# concat the two dataframes\n",
    "output_df= pd.concat([parent_file_above, df])\n",
    "\n",
    "# subset the columns from 2019-12-31 to 2021-12-31"
   ]
  },
  {
   "cell_type": "code",
   "execution_count": 61,
   "metadata": {},
   "outputs": [],
   "source": [
    "# df.to_csv('this.csv', index=False)"
   ]
  }
 ],
 "metadata": {
  "kernelspec": {
   "display_name": ".venv",
   "language": "python",
   "name": "python3"
  },
  "language_info": {
   "codemirror_mode": {
    "name": "ipython",
    "version": 3
   },
   "file_extension": ".py",
   "mimetype": "text/x-python",
   "name": "python",
   "nbconvert_exporter": "python",
   "pygments_lexer": "ipython3",
   "version": "3.11.6"
  }
 },
 "nbformat": 4,
 "nbformat_minor": 2
}
