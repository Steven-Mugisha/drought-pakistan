{
 "cells": [
  {
   "cell_type": "code",
   "execution_count": null,
   "metadata": {},
   "outputs": [],
   "source": [
    "import pandas as pd\n",
    "import numpy as np\n",
    "import glob\n",
    "import math \n",
    "import plotly.graph_objs as go\n",
    "import plotly.offline as pyo\n",
    "import plotly.graph_objs as go\n",
    "import plotly.io as pio"
   ]
  },
  {
   "cell_type": "code",
   "execution_count": null,
   "metadata": {},
   "outputs": [],
   "source": [
    "def fit_model(flow_data: pd.Series, doy, window=None):\n",
    "    if window is not None:\n",
    "        doy_min = (doy - window) % 365\n",
    "        doy_max = (doy + window) % 365\n",
    "        if doy_min > doy_max:\n",
    "            day_list = list(range(doy_min, 366)) + list(range(1, doy_max+1))\n",
    "        else:\n",
    "            day_list = list(range(doy_min, doy_max + 1))\n",
    "        flow_data_final = flow_data[flow_data.index.dayofyear.isin(day_list)]\n",
    "    else:\n",
    "        print(\" Only one day of year is considered\")\n",
    "        # flow_data_final = flow_data[flow_data.index.dayofyear == doy]\n",
    "        # params = genextreme.fit(flow_data_final, floc=0) # CHECK THIS\n",
    "        # params = list(params)\n",
    "    # return params, flow_data_final\n",
    "    return flow_data_final"
   ]
  },
  {
   "cell_type": "code",
   "execution_count": null,
   "metadata": {},
   "outputs": [],
   "source": [
    "\n",
    "def get_max_min_percentiles():\n",
    "    # Creating a function max and min from percentiles values\n",
    "    file = \"indus_at_tarbela.csv\"\n",
    "    flow_data = pd.read_csv(file, index_col=0, parse_dates=True)\n",
    "    name_of_river = file.split(\"/\")[-1].split(\".\")[0]\n",
    "\n",
    "    # Define data storages: \n",
    "    list_of_values = []\n",
    "    out_put_list = []\n",
    "\n",
    "    for i in range(1, 366):\n",
    "        out_put = fit_model(flow_data, i, window=10)\n",
    "        out_put_list.append(out_put)\n",
    "\n",
    "    for dataframe in out_put_list:\n",
    "        # change values into a list\n",
    "        values =dataframe.iloc[:, 0].values.tolist()\n",
    "        clean_list = [x for x in values if not math.isnan(x)]\n",
    "        list_of_values.append(clean_list)\n",
    " \n",
    "    # loop through the percentages and compute dataframes\n",
    "    dfs = {}\n",
    "    percentages = [0.01, 0.1, 0.25, 0.75, 0.9, 0.99]\n",
    "    for perc in percentages:\n",
    "        df = pd.DataFrame(columns=[f'{perc*100}_%_min', f'{perc*100}_%_max'])\n",
    "        for i, lst in enumerate(list_of_values):\n",
    "            lower_bound = np.percentile(lst, perc*100 - 1) if perc != 0.01 else -np.inf\n",
    "            upper_bound = np.percentile(lst, perc*100)\n",
    "            values = [x for x in lst if lower_bound < x <= upper_bound]\n",
    "            if values:\n",
    "                df.loc[f'list{i+1}'] = [min(values), max(values)]\n",
    "        dfs[perc] = df.reset_index(drop=True)\n",
    "\n",
    "    return dfs\n",
    "\n",
    "get_max_min_percentiles()[0.99]"
   ]
  },
  {
   "attachments": {},
   "cell_type": "markdown",
   "metadata": {},
   "source": [
    "The Plot with ticks modified"
   ]
  },
  {
   "cell_type": "code",
   "execution_count": null,
   "metadata": {},
   "outputs": [],
   "source": [
    "# Get the data\n",
    "percentile_dict = get_max_min_percentiles()\n",
    "dfs = [percentile_dict[p] for p in [0.01, 0.1, 0.25, 0.75, 0.9, 0.99]]\n",
    "\n",
    "# Set the index from 1 to 365\n",
    "dfs = [df.set_index(pd.Index(range(1, 366))) for df in dfs]\n",
    "\n",
    "\n",
    "# Create the traces\n",
    "traces = []\n",
    "fill_types = ['none'] + ['tonexty'] * 11\n",
    "for i, df in enumerate(dfs):\n",
    "    for j, col in enumerate(df.columns):\n",
    "        fill = fill_types[j] if i == 0 else 'tonexty'\n",
    "        traces.append(go.Scatter(\n",
    "            x=df.index,\n",
    "            y=df.iloc[:, j],\n",
    "            name=col,\n",
    "            fill=fill,\n",
    "        ))\n",
    "\n",
    "# Set the layout\n",
    "layout = go.Layout(\n",
    "    width=1200,\n",
    "    height=600,\n",
    "    title='Indus at Tarbela Dam Flow Percentiles (cfs)',\n",
    "    xaxis=dict(title='', showticklabels=False, showgrid=False),\n",
    "    yaxis=dict(title='Daily maximum and minimum discarge, in cubic feet per second',\n",
    "               tickmode='array', showgrid=False,titlefont=dict(size=10)))\n",
    "\n",
    "# Create the figure\n",
    "fig = go.Figure(data=traces, layout=layout)\n",
    "\n",
    "# Show the figure\n",
    "pio.show(fig)"
   ]
  }
 ],
 "metadata": {
  "kernelspec": {
   "display_name": "base",
   "language": "python",
   "name": "python3"
  },
  "language_info": {
   "name": "python",
   "version": "3.9.12 (main, Apr  5 2022, 01:53:17) \n[Clang 12.0.0 ]"
  },
  "orig_nbformat": 4,
  "vscode": {
   "interpreter": {
    "hash": "cd78fef2128015050713e82ca51c6520b11aee7c9ee8df750520bbbc7384cbaa"
   }
  }
 },
 "nbformat": 4,
 "nbformat_minor": 2
}
